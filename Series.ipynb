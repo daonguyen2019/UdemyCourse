{
 "cells": [
  {
   "cell_type": "code",
   "execution_count": 1,
   "id": "ca7708c3",
   "metadata": {},
   "outputs": [],
   "source": [
    "import pandas as pd"
   ]
  },
  {
   "cell_type": "code",
   "execution_count": null,
   "id": "f98389db",
   "metadata": {},
   "outputs": [],
   "source": [
    "#create a Series from the list\n",
    "#create a Series from the Dictionary\n",
    "#create a Series from the pd.read_csv\n",
    "    #pd.read_csv(\"pokemon.csv\",usecols=[\"Pokemon\"]).squeeze(\"columns\")\n"
   ]
  },
  {
   "cell_type": "markdown",
   "id": "367955e5",
   "metadata": {},
   "source": [
    "### Tip "
   ]
  },
  {
   "cell_type": "code",
   "execution_count": 2,
   "id": "279b803c",
   "metadata": {},
   "outputs": [],
   "source": [
    "#breakdown the code\n",
    "pokemon = (\n",
    "            pd.read_csv(\"pokemon.csv\",usecols=[\"Pokemon\"])\n",
    "              .squeeze(\"columns\")\n",
    "              .copy()\n",
    ")\n",
    "\n",
    "\n"
   ]
  },
  {
   "cell_type": "markdown",
   "id": "19691723",
   "metadata": {},
   "source": [
    "### Etract"
   ]
  },
  {
   "cell_type": "code",
   "execution_count": null,
   "id": "95453ebd",
   "metadata": {},
   "outputs": [],
   "source": [
    "#index position and index label\n",
    "#Ser[index]\n",
    "#Ser[[list of multiple index]]\n",
    "#Ser[start:end]\n",
    "#get method Ser.get() --> return None incase cant find the suitable one\n",
    "\n",
    "\n"
   ]
  },
  {
   "cell_type": "code",
   "execution_count": null,
   "id": "ba899b3b",
   "metadata": {},
   "outputs": [],
   "source": [
    ".get"
   ]
  },
  {
   "cell_type": "markdown",
   "id": "ef091c37",
   "metadata": {},
   "source": [
    "### Apply method"
   ]
  },
  {
   "cell_type": "code",
   "execution_count": null,
   "id": "5b0c8f25",
   "metadata": {},
   "outputs": [],
   "source": [
    "#.apply(func = )\n",
    "pokemon.apply(func=len)"
   ]
  },
  {
   "cell_type": "markdown",
   "id": "7b2a94a9",
   "metadata": {},
   "source": [
    "### Map method"
   ]
  },
  {
   "cell_type": "code",
   "execution_count": 6,
   "id": "26d8b1ae",
   "metadata": {},
   "outputs": [
    {
     "data": {
      "text/plain": [
       "0      Bulbasaur1\n",
       "1        Ivysaur2\n",
       "2       Venusaur3\n",
       "3             NaN\n",
       "4             NaN\n",
       "          ...    \n",
       "716           NaN\n",
       "717           NaN\n",
       "718           NaN\n",
       "719           NaN\n",
       "720           NaN\n",
       "Name: Pokemon, Length: 721, dtype: object"
      ]
     },
     "execution_count": 6,
     "metadata": {},
     "output_type": "execute_result"
    }
   ],
   "source": [
    "#.map(mapping)\n",
    "mappings={\n",
    "    'Bulbasaur':'Bulbasaur1',\n",
    "    'Ivysaur':'Ivysaur2',\n",
    "    'Venusaur':'Venusaur3'\n",
    "}\n",
    "pokemon.map(mappings)"
   ]
  },
  {
   "cell_type": "code",
   "execution_count": 5,
   "id": "43b7c3aa",
   "metadata": {},
   "outputs": [
    {
     "data": {
      "text/plain": [
       "0     Bulbasaur\n",
       "1       Ivysaur\n",
       "2      Venusaur\n",
       "3    Charmander\n",
       "4    Charmeleon\n",
       "Name: Pokemon, dtype: object"
      ]
     },
     "execution_count": 5,
     "metadata": {},
     "output_type": "execute_result"
    }
   ],
   "source": [
    "pokemon.head()"
   ]
  },
  {
   "cell_type": "code",
   "execution_count": null,
   "id": "e54dce59",
   "metadata": {},
   "outputs": [],
   "source": []
  },
  {
   "cell_type": "code",
   "execution_count": 4,
   "id": "49d936c3",
   "metadata": {},
   "outputs": [
    {
     "data": {
      "text/plain": [
       "0       9\n",
       "1       7\n",
       "2       8\n",
       "3      10\n",
       "4      10\n",
       "       ..\n",
       "716     7\n",
       "717     7\n",
       "718     7\n",
       "719     5\n",
       "720     9\n",
       "Name: Pokemon, Length: 721, dtype: int64"
      ]
     },
     "execution_count": 4,
     "metadata": {},
     "output_type": "execute_result"
    }
   ],
   "source": [
    "pokemon.apply(func=len)"
   ]
  },
  {
   "cell_type": "markdown",
   "id": "8cfeba96",
   "metadata": {},
   "source": [
    "### Built-in function"
   ]
  },
  {
   "cell_type": "code",
   "execution_count": null,
   "id": "859afff4",
   "metadata": {},
   "outputs": [],
   "source": [
    "#len()\n",
    "#type()\n",
    "#dir()\n",
    "#sorted()\n",
    "#list()\n",
    "#dict()"
   ]
  },
  {
   "cell_type": "markdown",
   "id": "f73e14b0",
   "metadata": {},
   "source": [
    "### Method"
   ]
  },
  {
   "cell_type": "code",
   "execution_count": null,
   "id": "28eab6d7",
   "metadata": {},
   "outputs": [],
   "source": [
    "#.sum()\n",
    "#.product()\n",
    "#.mean()\n",
    "#.count()\n",
    "#.std()\n",
    "#.min()\n",
    "#.max()\n",
    "#.median()\n",
    "#.describe()\n",
    "#.sort_values(ascending = )\n",
    "#.sort_index()\n",
    "#.value_counts(ascending = True)--> value order\n",
    "#.value_counts(sort = True) --> index order\n",
    "#.value_counts(normalize = True) --> percentage\n",
    "#.apply(func = )\n",
    "#.map(mapping)"
   ]
  },
  {
   "cell_type": "code",
   "execution_count": null,
   "id": "c2d03416",
   "metadata": {},
   "outputs": [],
   "source": [
    "pd.read_csv()"
   ]
  },
  {
   "cell_type": "markdown",
   "id": "987d48a5",
   "metadata": {},
   "source": [
    "### Attribute"
   ]
  },
  {
   "cell_type": "code",
   "execution_count": null,
   "id": "48152937",
   "metadata": {},
   "outputs": [],
   "source": [
    "#.size()\n",
    "#.is_unique()\n",
    "#.values()\n",
    "#.dtype\n",
    "#type()\n",
    "#.index\n",
    "#.values"
   ]
  },
  {
   "cell_type": "code",
   "execution_count": null,
   "id": "bfab746a",
   "metadata": {},
   "outputs": [],
   "source": [
    "#create a Series from the list\n",
    "ls = [1,2,3,4,None]\n",
    "ser1 = pd.Series(ls)\n",
    "ser1"
   ]
  },
  {
   "cell_type": "code",
   "execution_count": null,
   "id": "319b972a",
   "metadata": {},
   "outputs": [],
   "source": [
    "ser1.sum()"
   ]
  },
  {
   "cell_type": "code",
   "execution_count": null,
   "id": "45f50059",
   "metadata": {},
   "outputs": [],
   "source": [
    "ser1.mean()"
   ]
  },
  {
   "cell_type": "code",
   "execution_count": null,
   "id": "1c1a8970",
   "metadata": {},
   "outputs": [],
   "source": [
    "ser1.mean(numeric_only=True)"
   ]
  },
  {
   "cell_type": "code",
   "execution_count": null,
   "id": "88d34b47",
   "metadata": {},
   "outputs": [],
   "source": [
    "ser1.product()"
   ]
  },
  {
   "cell_type": "code",
   "execution_count": null,
   "id": "c5b48178",
   "metadata": {},
   "outputs": [],
   "source": [
    "#create a Series from the Dictionary\n",
    "dict = {\n",
    "    \"one\": 1,\n",
    "    \"two\": 2,\n",
    "    \"three\": 3\n",
    "}\n",
    "ser2 = pd.Series(dict)\n",
    "ser2"
   ]
  },
  {
   "cell_type": "code",
   "execution_count": null,
   "id": "ad351429",
   "metadata": {},
   "outputs": [],
   "source": [
    "type(pd.read_csv(\"pokemon.csv\",usecols=[\"Pokemon\"]))"
   ]
  },
  {
   "cell_type": "code",
   "execution_count": null,
   "id": "d0199dcb",
   "metadata": {},
   "outputs": [],
   "source": [
    "pokemon = pd.read_csv(\"pokemon.csv\",usecols=[\"Pokemon\"]).squeeze(\"columns\")\n",
    "pokemon"
   ]
  },
  {
   "cell_type": "code",
   "execution_count": null,
   "id": "53c4bdbb",
   "metadata": {},
   "outputs": [],
   "source": [
    "type(pokemon.sort_values(ascending=))"
   ]
  },
  {
   "cell_type": "code",
   "execution_count": null,
   "id": "ff6c7e28",
   "metadata": {},
   "outputs": [],
   "source": [
    "sorted = pokemon.sort_values()\n",
    "sorted"
   ]
  }
 ],
 "metadata": {
  "kernelspec": {
   "display_name": "Python 3 (ipykernel)",
   "language": "python",
   "name": "python3"
  },
  "language_info": {
   "codemirror_mode": {
    "name": "ipython",
    "version": 3
   },
   "file_extension": ".py",
   "mimetype": "text/x-python",
   "name": "python",
   "nbconvert_exporter": "python",
   "pygments_lexer": "ipython3",
   "version": "3.11.2"
  }
 },
 "nbformat": 4,
 "nbformat_minor": 5
}
